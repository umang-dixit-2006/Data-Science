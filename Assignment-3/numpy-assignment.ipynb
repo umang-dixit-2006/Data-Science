{
 "cells": [
  {
   "cell_type": "code",
   "execution_count": 5,
   "id": "4b5eaee0",
   "metadata": {},
   "outputs": [
    {
     "name": "stdout",
     "output_type": "stream",
     "text": [
      "Array: [ 1  2  3  4  5  6  7  8  9 10 11 12 13 14 15 16 17 18 19 20]\n",
      "Sum: 210\n",
      "Mean: 10.5\n",
      "Median: 10.5\n",
      "Standard Deviation: 5.766281297335398\n",
      "Indices of elements > 10: [10 11 12 13 14 15 16 17 18 19]\n"
     ]
    }
   ],
   "source": [
    "import numpy as np\n",
    "\n",
    "# Create a 1D NumPy array with integers from 1 to 20\n",
    "arr = np.arange(1, 21)\n",
    "print(\"Array:\", arr)\n",
    "\n",
    "# a. Calculate sum, mean, median, and standard deviation\n",
    "arr_sum = np.sum(arr)\n",
    "arr_mean = np.mean(arr)\n",
    "arr_median = np.median(arr)\n",
    "arr_std = np.std(arr)\n",
    "\n",
    "print(\"Sum:\", arr_sum)\n",
    "print(\"Mean:\", arr_mean)\n",
    "print(\"Median:\", arr_median)\n",
    "print(\"Standard Deviation:\", arr_std)\n",
    "\n",
    "# b. Find indices of elements greater than 10\n",
    "indices_gt_10 = np.where(arr > 10)[0]\n",
    "print(\"Indices of elements > 10:\", indices_gt_10)\n"
   ]
  },
  {
   "cell_type": "code",
   "execution_count": 7,
   "id": "8e2d5c7b",
   "metadata": {},
   "outputs": [
    {
     "name": "stdout",
     "output_type": "stream",
     "text": [
      "2D Array:\n",
      " [[ 1  2  3  4]\n",
      " [ 5  6  7  8]\n",
      " [ 9 10 11 12]\n",
      " [13 14 15 16]]\n",
      "Transpose:\n",
      " [[ 1  5  9 13]\n",
      " [ 2  6 10 14]\n",
      " [ 3  7 11 15]\n",
      " [ 4  8 12 16]]\n",
      "Row-wise sums: [10 26 42 58]\n",
      "Column-wise sums: [28 32 36 40]\n"
     ]
    }
   ],
   "source": [
    "import numpy as np\n",
    "\n",
    "# Create a 2D NumPy array of shape 4x4 with numbers from 1 to 16\n",
    "arr_2d = np.arange(1, 17).reshape(4, 4)\n",
    "print(\"2D Array:\\n\", arr_2d)\n",
    "\n",
    "# a. Print the array (already printed above)\n",
    "\n",
    "# b. Find the transpose of the array\n",
    "transpose = arr_2d.T\n",
    "print(\"Transpose:\\n\", transpose)\n",
    "\n",
    "# c. Calculate row-wise and column-wise sums\n",
    "row_sums = np.sum(arr_2d, axis=1)\n",
    "col_sums = np.sum(arr_2d, axis=0)\n",
    "print(\"Row-wise sums:\", row_sums)\n",
    "print(\"Column-wise sums:\", col_sums)\n"
   ]
  },
  {
   "cell_type": "code",
   "execution_count": 9,
   "id": "c1852976",
   "metadata": {},
   "outputs": [
    {
     "name": "stdout",
     "output_type": "stream",
     "text": [
      "Array 1:\n",
      " [[13 16  1]\n",
      " [ 4  4  8]\n",
      " [10 20 19]]\n",
      "Array 2:\n",
      " [[ 5  7 13]\n",
      " [ 2  7  8]\n",
      " [15 18  6]]\n",
      "Element-wise Addition:\n",
      " [[18 23 14]\n",
      " [ 6 11 16]\n",
      " [25 38 25]]\n",
      "Element-wise Subtraction:\n",
      " [[  8   9 -12]\n",
      " [  2  -3   0]\n",
      " [ -5   2  13]]\n",
      "Element-wise Multiplication:\n",
      " [[ 65 112  13]\n",
      " [  8  28  64]\n",
      " [150 360 114]]\n",
      "Dot Product (Matrix Multiplication):\n",
      " [[112 221 303]\n",
      " [148 200 132]\n",
      " [375 552 404]]\n"
     ]
    }
   ],
   "source": [
    "import numpy as np\n",
    "\n",
    "# Create two 3x3 arrays filled with random integers between 1 and 20\n",
    "np.random.seed(0)  # For reproducibility\n",
    "arr1 = np.random.randint(1, 21, size=(3, 3))\n",
    "arr2 = np.random.randint(1, 21, size=(3, 3))\n",
    "print(\"Array 1:\\n\", arr1)\n",
    "print(\"Array 2:\\n\", arr2)\n",
    "\n",
    "# a. Element-wise addition, subtraction, and multiplication\n",
    "add = arr1 + arr2\n",
    "sub = arr1 - arr2\n",
    "mul = arr1 * arr2\n",
    "print(\"Element-wise Addition:\\n\", add)\n",
    "print(\"Element-wise Subtraction:\\n\", sub)\n",
    "print(\"Element-wise Multiplication:\\n\", mul)\n",
    "\n",
    "# b. Dot product of the two arrays\n",
    "# For 2D arrays, dot product is matrix multiplication\n",
    "dot = np.dot(arr1, arr2)\n",
    "print(\"Dot Product (Matrix Multiplication):\\n\", dot)\n"
   ]
  },
  {
   "cell_type": "code",
   "execution_count": 10,
   "id": "9ae4aaa8",
   "metadata": {},
   "outputs": [
    {
     "name": "stdout",
     "output_type": "stream",
     "text": [
      "Original 1D Array: [ 1  2  3  4  5  6  7  8  9 10 11 12]\n",
      "Reshaped 3x4 Array:\n",
      " [[ 1  2  3  4]\n",
      " [ 5  6  7  8]\n",
      " [ 9 10 11 12]]\n",
      "First two rows and last two columns:\n",
      " [[3 4]\n",
      " [7 8]]\n"
     ]
    }
   ],
   "source": [
    "import numpy as np\n",
    "\n",
    "# Create a 1D array of size 12\n",
    "arr_1d = np.arange(1, 13)\n",
    "print(\"Original 1D Array:\", arr_1d)\n",
    "\n",
    "# Reshape into a 3x4 2D array\n",
    "arr_2d = arr_1d.reshape(3, 4)\n",
    "print(\"Reshaped 3x4 Array:\\n\", arr_2d)\n",
    "\n",
    "# Slice the first two rows and last two columns\n",
    "sliced = arr_2d[:2, -2:]\n",
    "print(\"First two rows and last two columns:\\n\", sliced)"
   ]
  }
 ],
 "metadata": {
  "kernelspec": {
   "display_name": "base",
   "language": "python",
   "name": "python3"
  },
  "language_info": {
   "codemirror_mode": {
    "name": "ipython",
    "version": 3
   },
   "file_extension": ".py",
   "mimetype": "text/x-python",
   "name": "python",
   "nbconvert_exporter": "python",
   "pygments_lexer": "ipython3",
   "version": "3.12.7"
  }
 },
 "nbformat": 4,
 "nbformat_minor": 5
}
